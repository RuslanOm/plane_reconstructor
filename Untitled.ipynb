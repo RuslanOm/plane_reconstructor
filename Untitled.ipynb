{
 "cells": [
  {
   "cell_type": "code",
   "execution_count": 5,
   "metadata": {},
   "outputs": [
    {
     "data": {
      "text/plain": [
       "<Response [200]>"
      ]
     },
     "execution_count": 5,
     "metadata": {},
     "output_type": "execute_result"
    }
   ],
   "source": [
    "import requests\n",
    "url = 'http://0.0.0.0:5000'\n",
    "files = {'media': open('test_corner2.jpg', 'rb')}\n",
    "requests.post(url, files=files)"
   ]
  },
  {
   "cell_type": "code",
   "execution_count": 1,
   "metadata": {},
   "outputs": [],
   "source": [
    "v = 1234\n",
    "st = str(v)"
   ]
  },
  {
   "cell_type": "code",
   "execution_count": null,
   "metadata": {},
   "outputs": [],
   "source": [
    "# Пусть есть число v \n",
    "st = str(v)\n",
    "\n",
    "# Как найти его первую цифру?\n",
    "st[0]\n",
    "# Как найти его последнюю цифру?\n",
    "st[-1]\n",
    "# Как найти его первые три цифры? (например из 1234 получить 123)\n",
    "st[:3]\n",
    "# Как найти его последние три цифры? (например из 1234 получить 234)\n",
    "st[-3:]\n",
    "# Как увеличить первую цифру на 1? (например из 1234 получить 2234)\n",
    "str(int(st[0]) + 1) + st[-3:]\n",
    "# Как сдвинуть все цифры числа вправо или влево?\n",
    "st[-1] + st[:3] - сдвиг вправо\n",
    "st[-3:] + st[0] - сдвиг влево"
   ]
  },
  {
   "cell_type": "code",
   "execution_count": null,
   "metadata": {},
   "outputs": [],
   "source": [
    "visited = set()\n"
   ]
  },
  {
   "cell_type": "code",
   "execution_count": 8,
   "metadata": {},
   "outputs": [
    {
     "data": {
      "text/plain": [
       "4123"
      ]
     },
     "execution_count": 8,
     "metadata": {},
     "output_type": "execute_result"
    }
   ],
   "source": [
    "int(st[-1] + st[:3])"
   ]
  },
  {
   "cell_type": "code",
   "execution_count": null,
   "metadata": {},
   "outputs": [],
   "source": [
    "n = int(input())\n",
    "dist = {n: 0}\n",
    "parents = {n: -1}\n",
    "\n",
    "while :\n",
    "    ...\n",
    "    for u in edges:\n",
    "        if u not in visited:\n",
    "            dist[u] = dist[v] + 1\n",
    "            parents[u] = v"
   ]
  },
  {
   "cell_type": "code",
   "execution_count": null,
   "metadata": {},
   "outputs": [],
   "source": [
    "str_v\n",
    "str(v)"
   ]
  }
 ],
 "metadata": {
  "kernelspec": {
   "display_name": "Python 3",
   "language": "python",
   "name": "python3"
  },
  "language_info": {
   "codemirror_mode": {
    "name": "ipython",
    "version": 3
   },
   "file_extension": ".py",
   "mimetype": "text/x-python",
   "name": "python",
   "nbconvert_exporter": "python",
   "pygments_lexer": "ipython3",
   "version": "3.8.5"
  }
 },
 "nbformat": 4,
 "nbformat_minor": 4
}
