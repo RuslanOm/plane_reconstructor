{
 "cells": [
  {
   "cell_type": "code",
   "execution_count": 27,
   "metadata": {},
   "outputs": [
    {
     "data": {
      "text/plain": [
       "<Response [200]>"
      ]
     },
     "execution_count": 27,
     "metadata": {},
     "output_type": "execute_result"
    }
   ],
   "source": [
    "import requests\n",
    "url = 'http://0.0.0.0:5000/test'\n",
    "files = {'media': open('test.png', 'rb')}\n",
    "requests.post(url, files=files)"
   ]
  },
  {
   "cell_type": "code",
   "execution_count": 41,
   "metadata": {},
   "outputs": [
    {
     "name": "stdout",
     "output_type": "stream",
     "text": [
      " * Serving Flask app \"__main__\" (lazy loading)\n",
      " * Environment: production\n",
      "\u001b[31m   WARNING: This is a development server. Do not use it in a production deployment.\u001b[0m\n",
      "\u001b[2m   Use a production WSGI server instead.\u001b[0m\n",
      " * Debug mode: off\n"
     ]
    },
    {
     "name": "stderr",
     "output_type": "stream",
     "text": [
      "127.0.0.1 - - [09/Dec/2020 15:51:18] \"\u001b[37mPOST / HTTP/1.1\u001b[0m\" 200 -\n"
     ]
    }
   ],
   "source": [
    "from flask import Flask, request, send_file\n",
    "from flask.json import jsonify\n",
    "import matplotlib.pyplot as plt\n",
    "from PIL import Image\n",
    "import base64\n",
    "import io\n",
    "\n",
    "app = Flask(__name__)\n",
    "\n",
    "\n",
    "@app.route('/', methods=[\"GET\", \"POST\"])\n",
    "def hello_world():\n",
    "    file = request.files['media']\n",
    "    image = Image.open(io.BytesIO(file.read()))\n",
    "#     plt.imshow(image)\n",
    "    return {\"img\": base64.encodebytes(file.read()).decode('utf-8')} \n",
    "    if not request.data:\n",
    "        return \"Hello motherfucker1\"\n",
    "    elif request.data:\n",
    "        return str(request.data)\n",
    "    return \"Hello motherfucker\"\n",
    "\n",
    "\n",
    "app.run('0.0.0.0', port=5050)\n"
   ]
  },
  {
   "cell_type": "code",
   "execution_count": null,
   "metadata": {},
   "outputs": [],
   "source": []
  }
 ],
 "metadata": {
  "kernelspec": {
   "display_name": "Python 3",
   "language": "python",
   "name": "python3"
  },
  "language_info": {
   "codemirror_mode": {
    "name": "ipython",
    "version": 3
   },
   "file_extension": ".py",
   "mimetype": "text/x-python",
   "name": "python",
   "nbconvert_exporter": "python",
   "pygments_lexer": "ipython3",
   "version": "3.8.5"
  }
 },
 "nbformat": 4,
 "nbformat_minor": 4
}
